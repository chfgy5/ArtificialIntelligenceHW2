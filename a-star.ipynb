{
 "cells": [
  {
   "cell_type": "code",
   "execution_count": 1,
   "metadata": {},
   "outputs": [],
   "source": [
    "import pprint\n",
    "pp = pprint.PrettyPrinter(indent=4)"
   ]
  },
  {
   "cell_type": "code",
   "execution_count": 6,
   "metadata": {},
   "outputs": [],
   "source": [
    "def puzz_astar(start,end):\n",
    "    queue = [[heuristic_manhattan(start), start]]\n",
    "    expanded = []\n",
    "    expanded_nodes=0\n",
    "    while queue:\n",
    "        i = 0\n",
    "        for j in range(1, len(queue)):\n",
    "            if queue[i][0] > queue[j][0]:\n",
    "                i = j\n",
    "        path = queue[i]\n",
    "        queue = queue[:i] + queue[i+1:]\n",
    "        endnode = path[-1]\n",
    "        if endnode == end:\n",
    "            break\n",
    "        if endnode in expanded: continue\n",
    "        for k in moves(endnode):\n",
    "            if k in expanded: continue\n",
    "            newpath = [path[0] + heuristic_manhattan(k) - heuristic_manhattan(endnode)] + path[1:] + [k] \n",
    "            queue.append(newpath)\n",
    "            expanded.append(endnode)\n",
    "        expanded_nodes += 1 \n",
    "    print (\"Expanded nodes:\", expanded_nodes)\n",
    "    print (\"Solution:\")\n",
    "    pp.pprint(path)"
   ]
  },
  {
   "cell_type": "code",
   "execution_count": 3,
   "metadata": {},
   "outputs": [],
   "source": [
    "def moves(current_state): \n",
    "    output = []  \n",
    "    puzzle = eval(current_state)\n",
    "    i = 0\n",
    "    while 0 not in puzzle[i]:\n",
    "        i += 1\n",
    "    j = puzzle[i].index(0); #looking for 0\n",
    "\n",
    "    if i > 0:                                   \n",
    "        puzzle[i][j], puzzle[i-1][j] = puzzle[i-1][j], puzzle[i][j];  #move up\n",
    "        output.append(str(puzzle))\n",
    "        puzzle[i][j], puzzle[i-1][j] = puzzle[i-1][j], puzzle[i][j]; \n",
    "      \n",
    "    if i < 3:                                   \n",
    "        puzzle[i][j], puzzle[i+1][j] = puzzle[i+1][j], puzzle[i][j]   #move down\n",
    "        output.append(str(puzzle))\n",
    "        puzzle[i][j], puzzle[i+1][j] = puzzle[i+1][j], puzzle[i][j]\n",
    "\n",
    "    if j > 0:                                                      \n",
    "        puzzle[i][j], puzzle[i][j-1] = puzzle[i][j-1], puzzle[i][j]   #move left\n",
    "        output.append(str(puzzle))\n",
    "        puzzle[i][j], puzzle[i][j-1] = puzzle[i][j-1], puzzle[i][j]\n",
    "\n",
    "    if j < 3:                                   \n",
    "        puzzle[i][j], puzzle[i][j+1] = puzzle[i][j+1], puzzle[i][j]   #move right\n",
    "        output.append(str(puzzle))\n",
    "        puzzle[i][j], puzzle[i][j+1] = puzzle[i][j+1], puzzle[i][j]\n",
    "\n",
    "    return output"
   ]
  },
  {
   "cell_type": "code",
   "execution_count": 4,
   "metadata": {},
   "outputs": [],
   "source": [
    "def heuristic_manhattan(current_state):\n",
    "    distance = 0\n",
    "    puzzle = eval(current_state)          \n",
    "    for i in range(4):\n",
    "        for j in range(4):\n",
    "            if puzzle[i][j] == 0: continue\n",
    "            distance += abs(i - ((puzzle[i][j]-1)/4)) + abs(j -  ((puzzle[i][j]-1)%4));\n",
    "    return distance"
   ]
  },
  {
   "cell_type": "code",
   "execution_count": 7,
   "metadata": {},
   "outputs": [
    {
     "name": "stdout",
     "output_type": "stream",
     "text": [
      "A*\n",
      "Expanded nodes: 9\n",
      "Solution:\n",
      "[   5.25,\n",
      "    '[[1, 2, 7, 3], [5, 6, 11, 4], [9, 10, 15, 8], [13, 14, 12, 0]]',\n",
      "    '[[1, 2, 7, 3], [5, 6, 11, 4], [9, 10, 15, 8], [13, 14, 0, 12]]',\n",
      "    '[[1, 2, 7, 3], [5, 6, 11, 4], [9, 10, 0, 8], [13, 14, 15, 12]]',\n",
      "    '[[1, 2, 7, 3], [5, 6, 0, 4], [9, 10, 11, 8], [13, 14, 15, 12]]',\n",
      "    '[[1, 2, 0, 3], [5, 6, 7, 4], [9, 10, 11, 8], [13, 14, 15, 12]]',\n",
      "    '[[1, 2, 3, 0], [5, 6, 7, 4], [9, 10, 11, 8], [13, 14, 15, 12]]',\n",
      "    '[[1, 2, 3, 4], [5, 6, 7, 0], [9, 10, 11, 8], [13, 14, 15, 12]]',\n",
      "    '[[1, 2, 3, 4], [5, 6, 7, 8], [9, 10, 11, 0], [13, 14, 15, 12]]',\n",
      "    '[[1, 2, 3, 4], [5, 6, 7, 8], [9, 10, 11, 12], [13, 14, 15, 0]]']\n",
      "--------------------------\n",
      "A*\n",
      "Expanded nodes: 16\n",
      "Solution:\n",
      "[   5.25,\n",
      "    '[[5, 1, 7, 3], [9, 2, 11, 4], [13, 6, 15, 8], [0, 10, 14, 12]]',\n",
      "    '[[5, 1, 7, 3], [9, 2, 11, 4], [0, 6, 15, 8], [13, 10, 14, 12]]',\n",
      "    '[[5, 1, 7, 3], [0, 2, 11, 4], [9, 6, 15, 8], [13, 10, 14, 12]]',\n",
      "    '[[0, 1, 7, 3], [5, 2, 11, 4], [9, 6, 15, 8], [13, 10, 14, 12]]',\n",
      "    '[[1, 0, 7, 3], [5, 2, 11, 4], [9, 6, 15, 8], [13, 10, 14, 12]]',\n",
      "    '[[1, 2, 7, 3], [5, 0, 11, 4], [9, 6, 15, 8], [13, 10, 14, 12]]',\n",
      "    '[[1, 2, 7, 3], [5, 6, 11, 4], [9, 0, 15, 8], [13, 10, 14, 12]]',\n",
      "    '[[1, 2, 7, 3], [5, 6, 11, 4], [9, 10, 15, 8], [13, 0, 14, 12]]',\n",
      "    '[[1, 2, 7, 3], [5, 6, 11, 4], [9, 10, 15, 8], [13, 14, 0, 12]]',\n",
      "    '[[1, 2, 7, 3], [5, 6, 11, 4], [9, 10, 0, 8], [13, 14, 15, 12]]',\n",
      "    '[[1, 2, 7, 3], [5, 6, 0, 4], [9, 10, 11, 8], [13, 14, 15, 12]]',\n",
      "    '[[1, 2, 0, 3], [5, 6, 7, 4], [9, 10, 11, 8], [13, 14, 15, 12]]',\n",
      "    '[[1, 2, 3, 0], [5, 6, 7, 4], [9, 10, 11, 8], [13, 14, 15, 12]]',\n",
      "    '[[1, 2, 3, 4], [5, 6, 7, 0], [9, 10, 11, 8], [13, 14, 15, 12]]',\n",
      "    '[[1, 2, 3, 4], [5, 6, 7, 8], [9, 10, 11, 0], [13, 14, 15, 12]]',\n",
      "    '[[1, 2, 3, 4], [5, 6, 7, 8], [9, 10, 11, 12], [13, 14, 15, 0]]']\n"
     ]
    }
   ],
   "source": [
    "puzzle1 = str([[1,2,7,3],[5,6,11,4], [9,10,15,8],[13,14,12,0]])\n",
    "puzzle2 = str([[5,1,7,3],[9,2,11,4], [13,6,15,8],[0,10,14,12]])\n",
    "end = str([[1,2,3,4],[5,6,7,8], [9,10,11,12],[13,14,15,0]])\n",
    "print(\"A*\")\n",
    "puzz_astar(puzzle1,end)\n",
    "print(\"--------------------------\")\n",
    "print(\"A*\")\n",
    "puzz_astar(puzzle2,end)"
   ]
  },
  {
   "cell_type": "code",
   "execution_count": null,
   "metadata": {},
   "outputs": [],
   "source": []
  },
  {
   "cell_type": "code",
   "execution_count": null,
   "metadata": {},
   "outputs": [],
   "source": []
  }
 ],
 "metadata": {
  "kernelspec": {
   "display_name": "Python 3",
   "language": "python",
   "name": "python3"
  },
  "language_info": {
   "codemirror_mode": {
    "name": "ipython",
    "version": 3
   },
   "file_extension": ".py",
   "mimetype": "text/x-python",
   "name": "python",
   "nbconvert_exporter": "python",
   "pygments_lexer": "ipython3",
   "version": "3.6.5"
  }
 },
 "nbformat": 4,
 "nbformat_minor": 2
}
